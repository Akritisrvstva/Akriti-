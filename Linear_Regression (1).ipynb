{
  "nbformat": 4,
  "nbformat_minor": 0,
  "metadata": {
    "colab": {
      "provenance": []
    },
    "kernelspec": {
      "name": "python3",
      "display_name": "Python 3"
    },
    "language_info": {
      "name": "python"
    }
  },
  "cells": [
    {
      "cell_type": "code",
      "execution_count": 1,
      "metadata": {
        "id": "IJEF0c7FTXzl"
      },
      "outputs": [],
      "source": [
        "import matplotlib.pyplot as plt\n",
        "import numpy as np\n",
        "from sklearn import datasets, linear_model\n",
        "from sklearn.metrics import mean_squared_error"
      ]
    },
    {
      "cell_type": "code",
      "source": [
        "diabetes= datasets.load_diabetes()"
      ],
      "metadata": {
        "id": "SurY7TtST6Sp"
      },
      "execution_count": 2,
      "outputs": []
    },
    {
      "cell_type": "code",
      "source": [
        "print(diabetes.keys())"
      ],
      "metadata": {
        "colab": {
          "base_uri": "https://localhost:8080/"
        },
        "id": "IzIMwaedT6by",
        "outputId": "a2f1e965-da8d-439d-c946-2668faaa274c"
      },
      "execution_count": 3,
      "outputs": [
        {
          "output_type": "stream",
          "name": "stdout",
          "text": [
            "dict_keys(['data', 'target', 'frame', 'DESCR', 'feature_names', 'data_filename', 'target_filename', 'data_module'])\n"
          ]
        }
      ]
    },
    {
      "cell_type": "code",
      "source": [
        "print(diabetes.data)"
      ],
      "metadata": {
        "colab": {
          "base_uri": "https://localhost:8080/"
        },
        "id": "lHlr5NodT6fb",
        "outputId": "661f8345-d3d8-4bb7-df19-aa6a74695bd3"
      },
      "execution_count": 4,
      "outputs": [
        {
          "output_type": "stream",
          "name": "stdout",
          "text": [
            "[[ 0.03807591  0.05068012  0.06169621 ... -0.00259226  0.01990842\n",
            "  -0.01764613]\n",
            " [-0.00188202 -0.04464164 -0.05147406 ... -0.03949338 -0.06832974\n",
            "  -0.09220405]\n",
            " [ 0.08529891  0.05068012  0.04445121 ... -0.00259226  0.00286377\n",
            "  -0.02593034]\n",
            " ...\n",
            " [ 0.04170844  0.05068012 -0.01590626 ... -0.01107952 -0.04687948\n",
            "   0.01549073]\n",
            " [-0.04547248 -0.04464164  0.03906215 ...  0.02655962  0.04452837\n",
            "  -0.02593034]\n",
            " [-0.04547248 -0.04464164 -0.0730303  ... -0.03949338 -0.00421986\n",
            "   0.00306441]]\n"
          ]
        }
      ]
    },
    {
      "cell_type": "code",
      "source": [
        "print(diabetes.DESCR)"
      ],
      "metadata": {
        "colab": {
          "base_uri": "https://localhost:8080/"
        },
        "id": "GXnbmi4sT6if",
        "outputId": "6610f11b-8ba1-4b50-a063-66d4dfdddd6d"
      },
      "execution_count": 5,
      "outputs": [
        {
          "output_type": "stream",
          "name": "stdout",
          "text": [
            ".. _diabetes_dataset:\n",
            "\n",
            "Diabetes dataset\n",
            "----------------\n",
            "\n",
            "Ten baseline variables, age, sex, body mass index, average blood\n",
            "pressure, and six blood serum measurements were obtained for each of n =\n",
            "442 diabetes patients, as well as the response of interest, a\n",
            "quantitative measure of disease progression one year after baseline.\n",
            "\n",
            "**Data Set Characteristics:**\n",
            "\n",
            "  :Number of Instances: 442\n",
            "\n",
            "  :Number of Attributes: First 10 columns are numeric predictive values\n",
            "\n",
            "  :Target: Column 11 is a quantitative measure of disease progression one year after baseline\n",
            "\n",
            "  :Attribute Information:\n",
            "      - age     age in years\n",
            "      - sex\n",
            "      - bmi     body mass index\n",
            "      - bp      average blood pressure\n",
            "      - s1      tc, total serum cholesterol\n",
            "      - s2      ldl, low-density lipoproteins\n",
            "      - s3      hdl, high-density lipoproteins\n",
            "      - s4      tch, total cholesterol / HDL\n",
            "      - s5      ltg, possibly log of serum triglycerides level\n",
            "      - s6      glu, blood sugar level\n",
            "\n",
            "Note: Each of these 10 feature variables have been mean centered and scaled by the standard deviation times `n_samples` (i.e. the sum of squares of each column totals 1).\n",
            "\n",
            "Source URL:\n",
            "https://www4.stat.ncsu.edu/~boos/var.select/diabetes.html\n",
            "\n",
            "For more information see:\n",
            "Bradley Efron, Trevor Hastie, Iain Johnstone and Robert Tibshirani (2004) \"Least Angle Regression,\" Annals of Statistics (with discussion), 407-499.\n",
            "(https://web.stanford.edu/~hastie/Papers/LARS/LeastAngle_2002.pdf)\n"
          ]
        }
      ]
    },
    {
      "cell_type": "code",
      "source": [
        "diabetes_x= diabetes.data[:, np.newaxis,2]"
      ],
      "metadata": {
        "id": "tIye42Y3T6lb"
      },
      "execution_count": 6,
      "outputs": []
    },
    {
      "cell_type": "code",
      "source": [
        "print(diabetes_x)"
      ],
      "metadata": {
        "colab": {
          "base_uri": "https://localhost:8080/"
        },
        "id": "z8Sklrs2T6oi",
        "outputId": "a484384d-45ad-4a11-dd87-f948b25275f2"
      },
      "execution_count": 7,
      "outputs": [
        {
          "output_type": "stream",
          "name": "stdout",
          "text": [
            "[[ 0.06169621]\n",
            " [-0.05147406]\n",
            " [ 0.04445121]\n",
            " [-0.01159501]\n",
            " [-0.03638469]\n",
            " [-0.04069594]\n",
            " [-0.04716281]\n",
            " [-0.00189471]\n",
            " [ 0.06169621]\n",
            " [ 0.03906215]\n",
            " [-0.08380842]\n",
            " [ 0.01750591]\n",
            " [-0.02884001]\n",
            " [-0.00189471]\n",
            " [-0.02560657]\n",
            " [-0.01806189]\n",
            " [ 0.04229559]\n",
            " [ 0.01211685]\n",
            " [-0.0105172 ]\n",
            " [-0.01806189]\n",
            " [-0.05686312]\n",
            " [-0.02237314]\n",
            " [-0.00405033]\n",
            " [ 0.06061839]\n",
            " [ 0.03582872]\n",
            " [-0.01267283]\n",
            " [-0.07734155]\n",
            " [ 0.05954058]\n",
            " [-0.02129532]\n",
            " [-0.00620595]\n",
            " [ 0.04445121]\n",
            " [-0.06548562]\n",
            " [ 0.12528712]\n",
            " [-0.05039625]\n",
            " [-0.06332999]\n",
            " [-0.03099563]\n",
            " [ 0.02289497]\n",
            " [ 0.01103904]\n",
            " [ 0.07139652]\n",
            " [ 0.01427248]\n",
            " [-0.00836158]\n",
            " [-0.06764124]\n",
            " [-0.0105172 ]\n",
            " [-0.02345095]\n",
            " [ 0.06816308]\n",
            " [-0.03530688]\n",
            " [-0.01159501]\n",
            " [-0.0730303 ]\n",
            " [-0.04177375]\n",
            " [ 0.01427248]\n",
            " [-0.00728377]\n",
            " [ 0.0164281 ]\n",
            " [-0.00943939]\n",
            " [-0.01590626]\n",
            " [ 0.0250506 ]\n",
            " [-0.04931844]\n",
            " [ 0.04121778]\n",
            " [-0.06332999]\n",
            " [-0.06440781]\n",
            " [-0.02560657]\n",
            " [-0.00405033]\n",
            " [ 0.00457217]\n",
            " [-0.00728377]\n",
            " [-0.0374625 ]\n",
            " [-0.02560657]\n",
            " [-0.02452876]\n",
            " [-0.01806189]\n",
            " [-0.01482845]\n",
            " [-0.02991782]\n",
            " [-0.046085  ]\n",
            " [-0.06979687]\n",
            " [ 0.03367309]\n",
            " [-0.00405033]\n",
            " [-0.02021751]\n",
            " [ 0.00241654]\n",
            " [-0.03099563]\n",
            " [ 0.02828403]\n",
            " [-0.03638469]\n",
            " [-0.05794093]\n",
            " [-0.0374625 ]\n",
            " [ 0.01211685]\n",
            " [-0.02237314]\n",
            " [-0.03530688]\n",
            " [ 0.00996123]\n",
            " [-0.03961813]\n",
            " [ 0.07139652]\n",
            " [-0.07518593]\n",
            " [-0.00620595]\n",
            " [-0.04069594]\n",
            " [-0.04824063]\n",
            " [-0.02560657]\n",
            " [ 0.0519959 ]\n",
            " [ 0.00457217]\n",
            " [-0.06440781]\n",
            " [-0.01698407]\n",
            " [-0.05794093]\n",
            " [ 0.00996123]\n",
            " [ 0.08864151]\n",
            " [-0.00512814]\n",
            " [-0.06440781]\n",
            " [ 0.01750591]\n",
            " [-0.04500719]\n",
            " [ 0.02828403]\n",
            " [ 0.04121778]\n",
            " [ 0.06492964]\n",
            " [-0.03207344]\n",
            " [-0.07626374]\n",
            " [ 0.04984027]\n",
            " [ 0.04552903]\n",
            " [-0.00943939]\n",
            " [-0.03207344]\n",
            " [ 0.00457217]\n",
            " [ 0.02073935]\n",
            " [ 0.01427248]\n",
            " [ 0.11019775]\n",
            " [ 0.00133873]\n",
            " [ 0.05846277]\n",
            " [-0.02129532]\n",
            " [-0.0105172 ]\n",
            " [-0.04716281]\n",
            " [ 0.00457217]\n",
            " [ 0.01750591]\n",
            " [ 0.08109682]\n",
            " [ 0.0347509 ]\n",
            " [ 0.02397278]\n",
            " [-0.00836158]\n",
            " [-0.06117437]\n",
            " [-0.00189471]\n",
            " [-0.06225218]\n",
            " [ 0.0164281 ]\n",
            " [ 0.09618619]\n",
            " [-0.06979687]\n",
            " [-0.02129532]\n",
            " [-0.05362969]\n",
            " [ 0.0433734 ]\n",
            " [ 0.05630715]\n",
            " [-0.0816528 ]\n",
            " [ 0.04984027]\n",
            " [ 0.11127556]\n",
            " [ 0.06169621]\n",
            " [ 0.01427248]\n",
            " [ 0.04768465]\n",
            " [ 0.01211685]\n",
            " [ 0.00564998]\n",
            " [ 0.04660684]\n",
            " [ 0.12852056]\n",
            " [ 0.05954058]\n",
            " [ 0.09295276]\n",
            " [ 0.01535029]\n",
            " [-0.00512814]\n",
            " [ 0.0703187 ]\n",
            " [-0.00405033]\n",
            " [-0.00081689]\n",
            " [-0.04392938]\n",
            " [ 0.02073935]\n",
            " [ 0.06061839]\n",
            " [-0.0105172 ]\n",
            " [-0.03315126]\n",
            " [-0.06548562]\n",
            " [ 0.0433734 ]\n",
            " [-0.06225218]\n",
            " [ 0.06385183]\n",
            " [ 0.03043966]\n",
            " [ 0.07247433]\n",
            " [-0.0191397 ]\n",
            " [-0.06656343]\n",
            " [-0.06009656]\n",
            " [ 0.06924089]\n",
            " [ 0.05954058]\n",
            " [-0.02668438]\n",
            " [-0.02021751]\n",
            " [-0.046085  ]\n",
            " [ 0.07139652]\n",
            " [-0.07949718]\n",
            " [ 0.00996123]\n",
            " [-0.03854032]\n",
            " [ 0.01966154]\n",
            " [ 0.02720622]\n",
            " [-0.00836158]\n",
            " [-0.01590626]\n",
            " [ 0.00457217]\n",
            " [-0.04285156]\n",
            " [ 0.00564998]\n",
            " [-0.03530688]\n",
            " [ 0.02397278]\n",
            " [-0.01806189]\n",
            " [ 0.04229559]\n",
            " [-0.0547075 ]\n",
            " [-0.00297252]\n",
            " [-0.06656343]\n",
            " [-0.01267283]\n",
            " [-0.04177375]\n",
            " [-0.03099563]\n",
            " [-0.00512814]\n",
            " [-0.05901875]\n",
            " [ 0.0250506 ]\n",
            " [-0.046085  ]\n",
            " [ 0.00349435]\n",
            " [ 0.05415152]\n",
            " [-0.04500719]\n",
            " [-0.05794093]\n",
            " [-0.05578531]\n",
            " [ 0.00133873]\n",
            " [ 0.03043966]\n",
            " [ 0.00672779]\n",
            " [ 0.04660684]\n",
            " [ 0.02612841]\n",
            " [ 0.04552903]\n",
            " [ 0.04013997]\n",
            " [-0.01806189]\n",
            " [ 0.01427248]\n",
            " [ 0.03690653]\n",
            " [ 0.00349435]\n",
            " [-0.07087468]\n",
            " [-0.03315126]\n",
            " [ 0.09403057]\n",
            " [ 0.03582872]\n",
            " [ 0.03151747]\n",
            " [-0.06548562]\n",
            " [-0.04177375]\n",
            " [-0.03961813]\n",
            " [-0.03854032]\n",
            " [-0.02560657]\n",
            " [-0.02345095]\n",
            " [-0.06656343]\n",
            " [ 0.03259528]\n",
            " [-0.046085  ]\n",
            " [-0.02991782]\n",
            " [-0.01267283]\n",
            " [-0.01590626]\n",
            " [ 0.07139652]\n",
            " [-0.03099563]\n",
            " [ 0.00026092]\n",
            " [ 0.03690653]\n",
            " [ 0.03906215]\n",
            " [-0.01482845]\n",
            " [ 0.00672779]\n",
            " [-0.06871905]\n",
            " [-0.00943939]\n",
            " [ 0.01966154]\n",
            " [ 0.07462995]\n",
            " [-0.00836158]\n",
            " [-0.02345095]\n",
            " [-0.046085  ]\n",
            " [ 0.05415152]\n",
            " [-0.03530688]\n",
            " [-0.03207344]\n",
            " [-0.0816528 ]\n",
            " [ 0.04768465]\n",
            " [ 0.06061839]\n",
            " [ 0.05630715]\n",
            " [ 0.09834182]\n",
            " [ 0.05954058]\n",
            " [ 0.03367309]\n",
            " [ 0.05630715]\n",
            " [-0.06548562]\n",
            " [ 0.16085492]\n",
            " [-0.05578531]\n",
            " [-0.02452876]\n",
            " [-0.03638469]\n",
            " [-0.00836158]\n",
            " [-0.04177375]\n",
            " [ 0.12744274]\n",
            " [-0.07734155]\n",
            " [ 0.02828403]\n",
            " [-0.02560657]\n",
            " [-0.06225218]\n",
            " [-0.00081689]\n",
            " [ 0.08864151]\n",
            " [-0.03207344]\n",
            " [ 0.03043966]\n",
            " [ 0.00888341]\n",
            " [ 0.00672779]\n",
            " [-0.02021751]\n",
            " [-0.02452876]\n",
            " [-0.01159501]\n",
            " [ 0.02612841]\n",
            " [-0.05901875]\n",
            " [-0.03638469]\n",
            " [-0.02452876]\n",
            " [ 0.01858372]\n",
            " [-0.0902753 ]\n",
            " [-0.00512814]\n",
            " [-0.05255187]\n",
            " [-0.02237314]\n",
            " [-0.02021751]\n",
            " [-0.0547075 ]\n",
            " [-0.00620595]\n",
            " [-0.01698407]\n",
            " [ 0.05522933]\n",
            " [ 0.07678558]\n",
            " [ 0.01858372]\n",
            " [-0.02237314]\n",
            " [ 0.09295276]\n",
            " [-0.03099563]\n",
            " [ 0.03906215]\n",
            " [-0.06117437]\n",
            " [-0.00836158]\n",
            " [-0.0374625 ]\n",
            " [-0.01375064]\n",
            " [ 0.07355214]\n",
            " [-0.02452876]\n",
            " [ 0.03367309]\n",
            " [ 0.0347509 ]\n",
            " [-0.03854032]\n",
            " [-0.03961813]\n",
            " [-0.00189471]\n",
            " [-0.03099563]\n",
            " [-0.046085  ]\n",
            " [ 0.00133873]\n",
            " [ 0.06492964]\n",
            " [ 0.04013997]\n",
            " [-0.02345095]\n",
            " [ 0.05307371]\n",
            " [ 0.04013997]\n",
            " [-0.02021751]\n",
            " [ 0.01427248]\n",
            " [-0.03422907]\n",
            " [ 0.00672779]\n",
            " [ 0.00457217]\n",
            " [ 0.03043966]\n",
            " [ 0.0519959 ]\n",
            " [ 0.06169621]\n",
            " [-0.00728377]\n",
            " [ 0.00564998]\n",
            " [ 0.05415152]\n",
            " [-0.00836158]\n",
            " [ 0.114509  ]\n",
            " [ 0.06708527]\n",
            " [-0.05578531]\n",
            " [ 0.03043966]\n",
            " [-0.02560657]\n",
            " [ 0.10480869]\n",
            " [-0.00620595]\n",
            " [-0.04716281]\n",
            " [-0.04824063]\n",
            " [ 0.08540807]\n",
            " [-0.01267283]\n",
            " [-0.03315126]\n",
            " [-0.00728377]\n",
            " [-0.01375064]\n",
            " [ 0.05954058]\n",
            " [ 0.02181716]\n",
            " [ 0.01858372]\n",
            " [-0.01159501]\n",
            " [-0.00297252]\n",
            " [ 0.01750591]\n",
            " [-0.02991782]\n",
            " [-0.02021751]\n",
            " [-0.05794093]\n",
            " [ 0.06061839]\n",
            " [-0.04069594]\n",
            " [-0.07195249]\n",
            " [-0.05578531]\n",
            " [ 0.04552903]\n",
            " [-0.00943939]\n",
            " [-0.03315126]\n",
            " [ 0.04984027]\n",
            " [-0.08488624]\n",
            " [ 0.00564998]\n",
            " [ 0.02073935]\n",
            " [-0.00728377]\n",
            " [ 0.10480869]\n",
            " [-0.02452876]\n",
            " [-0.00620595]\n",
            " [-0.03854032]\n",
            " [ 0.13714305]\n",
            " [ 0.17055523]\n",
            " [ 0.00241654]\n",
            " [ 0.03798434]\n",
            " [-0.05794093]\n",
            " [-0.00943939]\n",
            " [-0.02345095]\n",
            " [-0.0105172 ]\n",
            " [-0.03422907]\n",
            " [-0.00297252]\n",
            " [ 0.06816308]\n",
            " [ 0.00996123]\n",
            " [ 0.00241654]\n",
            " [-0.03854032]\n",
            " [ 0.02612841]\n",
            " [-0.08919748]\n",
            " [ 0.06061839]\n",
            " [-0.02884001]\n",
            " [-0.02991782]\n",
            " [-0.0191397 ]\n",
            " [-0.04069594]\n",
            " [ 0.01535029]\n",
            " [-0.02452876]\n",
            " [ 0.00133873]\n",
            " [ 0.06924089]\n",
            " [-0.06979687]\n",
            " [-0.02991782]\n",
            " [-0.046085  ]\n",
            " [ 0.01858372]\n",
            " [ 0.00133873]\n",
            " [-0.03099563]\n",
            " [-0.00405033]\n",
            " [ 0.01535029]\n",
            " [ 0.02289497]\n",
            " [ 0.04552903]\n",
            " [-0.04500719]\n",
            " [-0.03315126]\n",
            " [ 0.097264  ]\n",
            " [ 0.05415152]\n",
            " [ 0.12313149]\n",
            " [-0.08057499]\n",
            " [ 0.09295276]\n",
            " [-0.05039625]\n",
            " [-0.01159501]\n",
            " [-0.0277622 ]\n",
            " [ 0.05846277]\n",
            " [ 0.08540807]\n",
            " [-0.00081689]\n",
            " [ 0.00672779]\n",
            " [ 0.00888341]\n",
            " [ 0.08001901]\n",
            " [ 0.07139652]\n",
            " [-0.02452876]\n",
            " [-0.0547075 ]\n",
            " [-0.03638469]\n",
            " [ 0.0164281 ]\n",
            " [ 0.07786339]\n",
            " [-0.03961813]\n",
            " [ 0.01103904]\n",
            " [-0.04069594]\n",
            " [-0.03422907]\n",
            " [ 0.00564998]\n",
            " [ 0.08864151]\n",
            " [-0.03315126]\n",
            " [-0.05686312]\n",
            " [-0.03099563]\n",
            " [ 0.05522933]\n",
            " [-0.06009656]\n",
            " [ 0.00133873]\n",
            " [-0.02345095]\n",
            " [-0.07410811]\n",
            " [ 0.01966154]\n",
            " [-0.01590626]\n",
            " [-0.01590626]\n",
            " [ 0.03906215]\n",
            " [-0.0730303 ]]\n"
          ]
        }
      ]
    },
    {
      "cell_type": "code",
      "source": [
        "diabetes_x_train= diabetes_x[:-30]\n",
        "diabetes_x_test= diabetes_x[-20:]"
      ],
      "metadata": {
        "id": "G464S_hnT6r1"
      },
      "execution_count": 8,
      "outputs": []
    },
    {
      "cell_type": "code",
      "source": [
        "diabetes_y_train= diabetes.target[:-30]\n",
        "diabetes_y_test= diabetes.target[-30:]"
      ],
      "metadata": {
        "id": "sDtmiNMLT6u9"
      },
      "execution_count": 9,
      "outputs": []
    },
    {
      "cell_type": "code",
      "source": [
        "model= linear_model.LinearRegression()"
      ],
      "metadata": {
        "id": "s2u3xv9_T6x6"
      },
      "execution_count": 10,
      "outputs": []
    },
    {
      "cell_type": "code",
      "source": [
        "model.fit(diabetes_x_train,diabetes_y_train)"
      ],
      "metadata": {
        "colab": {
          "base_uri": "https://localhost:8080/"
        },
        "id": "xsva6JxlT61O",
        "outputId": "2e63622c-80c7-4fec-fb8b-eb2e8ca6b9b4"
      },
      "execution_count": 11,
      "outputs": [
        {
          "output_type": "execute_result",
          "data": {
            "text/plain": [
              "LinearRegression()"
            ]
          },
          "metadata": {},
          "execution_count": 11
        }
      ]
    },
    {
      "cell_type": "code",
      "source": [
        "model.predict(diabetes_x_test)"
      ],
      "metadata": {
        "colab": {
          "base_uri": "https://localhost:8080/"
        },
        "id": "eHyZeVYET64L",
        "outputId": "cf0fde86-8396-4d01-ff26-5490cff94e24"
      },
      "execution_count": 12,
      "outputs": [
        {
          "output_type": "execute_result",
          "data": {
            "text/plain": [
              "array([226.70014103, 116.09940303, 163.78962951, 115.08471736,\n",
              "       121.17283138, 158.71620116, 236.84699773, 122.18751705,\n",
              "        99.86443231, 124.21688839, 205.39174197,  96.8203753 ,\n",
              "       154.65745848, 131.31968807,  83.62946159, 171.90711487,\n",
              "       138.42248776, 138.42248776, 190.17145692,  84.64414726])"
            ]
          },
          "metadata": {},
          "execution_count": 12
        }
      ]
    },
    {
      "cell_type": "code",
      "source": [
        "diabetes_y_predicted= model.predict(diabetes_x_test)"
      ],
      "metadata": {
        "id": "2TL0FTBhT67C"
      },
      "execution_count": 13,
      "outputs": []
    },
    {
      "cell_type": "code",
      "source": [
        "print(\"Weights: \", model.coef_)"
      ],
      "metadata": {
        "colab": {
          "base_uri": "https://localhost:8080/"
        },
        "id": "ddDg-4mHT7BP",
        "outputId": "cdb4388f-5c58-4551-fc2c-bc0651005a0d"
      },
      "execution_count": 15,
      "outputs": [
        {
          "output_type": "stream",
          "name": "stdout",
          "text": [
            "Weights:  [941.43097333]\n"
          ]
        }
      ]
    },
    {
      "cell_type": "code",
      "source": [
        "print(\"Intercept: \", model.intercept_)"
      ],
      "metadata": {
        "colab": {
          "base_uri": "https://localhost:8080/"
        },
        "id": "Pmwda5lwT7EW",
        "outputId": "2e3a10e4-0905-4c39-bd30-1cbb1d0a7cc2"
      },
      "execution_count": 16,
      "outputs": [
        {
          "output_type": "stream",
          "name": "stdout",
          "text": [
            "Intercept:  153.39713623331698\n"
          ]
        }
      ]
    },
    {
      "cell_type": "code",
      "source": [
        "plt.plot(diabetes_x_test, diabetes_y_predicted)\n",
        "plt.show()"
      ],
      "metadata": {
        "colab": {
          "base_uri": "https://localhost:8080/",
          "height": 265
        },
        "id": "du5nciVbt5I9",
        "outputId": "61942c50-0275-4214-b185-d57f03eaa18b"
      },
      "execution_count": 19,
      "outputs": [
        {
          "output_type": "display_data",
          "data": {
            "text/plain": [
              "<Figure size 432x288 with 1 Axes>"
            ],
            "image/png": "[encoded data removed]"
          },
          "metadata": {
            "needs_background": "light"
          }
        }
      ]
    },
    {
      "cell_type": "code",
      "source": [],
      "metadata": {
        "id": "2RWwjh7It5L7"
      },
      "execution_count": null,
      "outputs": []
    },
    {
      "cell_type": "code",
      "source": [],
      "metadata": {
        "id": "wyyY0B0rt5OR"
      },
      "execution_count": null,
      "outputs": []
    },
    {
      "cell_type": "code",
      "source": [],
      "metadata": {
        "id": "d4XEcvR8t5SS"
      },
      "execution_count": null,
      "outputs": []
    }
  ]
}