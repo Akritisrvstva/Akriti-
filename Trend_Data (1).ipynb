{
  "nbformat": 4,
  "nbformat_minor": 0,
  "metadata": {
    "colab": {
      "provenance": []
    },
    "kernelspec": {
      "name": "python3",
      "display_name": "Python 3"
    },
    "language_info": {
      "name": "python"
    }
  },
  "cells": [
    {
      "cell_type": "markdown",
      "source": [
        "# Trend Data EDA"
      ],
      "metadata": {
        "id": "Lwuqoec3Nmn-"
      }
    },
    {
      "cell_type": "code",
      "execution_count": 1,
      "metadata": {
        "id": "44Qrlk5pBQDT"
      },
      "outputs": [],
      "source": [
        "import pandas as pd\n",
        "import numpy as np\n",
        "import seaborn as sns\n",
        "import matplotlib.pyplot as plt "
      ]
    },
    {
      "cell_type": "markdown",
      "source": [
        "Uploading the data to perform exploratrory data analysis. "
      ],
      "metadata": {
        "id": "69PcmPXdQZqJ"
      }
    },
    {
      "cell_type": "code",
      "source": [
        "df = pd.read_csv('/content/Trend Data Dashboard.csv')"
      ],
      "metadata": {
        "id": "BYecvV1OBRRL"
      },
      "execution_count": 2,
      "outputs": []
    },
    {
      "cell_type": "markdown",
      "source": [
        "Printing the first 5 values of the data to get the insights of the data"
      ],
      "metadata": {
        "id": "RcnwQwbfQtYS"
      }
    },
    {
      "cell_type": "code",
      "source": [
        "df.head()"
      ],
      "metadata": {
        "colab": {
          "base_uri": "https://localhost:8080/",
          "height": 354
        },
        "id": "RBUj0HApBRTJ",
        "outputId": "c473cbfe-2d5c-4a4f-894a-46fd0f5b1d44"
      },
      "execution_count": 3,
      "outputs": [
        {
          "output_type": "execute_result",
          "data": {
            "text/plain": [
              "  Platform   Month                            Trend           Trend Type  \\\n",
              "0   TikTok  202006                            I Win  Lip Sync (dialogue)   \n",
              "1   TikTok  202006               I am Jose Mourinho  Lip Sync (dialogue)   \n",
              "2   TikTok  202006           I'm Gonna Live Forever     Lip Sync (music)   \n",
              "3   TikTok  202006     That's My Life (Hilary Duff)  Lip Sync (dialogue)   \n",
              "4   TikTok  202006  Hot New Bombshell (Love Island)  Lip Sync (dialogue)   \n",
              "\n",
              "                      Music   Video Style   Theme Part of Song  \\\n",
              "0                       NaN  Selfie Video  Comedy          NaN   \n",
              "1                       NaN  Selfie Video  Comedy          NaN   \n",
              "2  Fame - Irene Cara (1980)  Selfie Video  Comedy       Chorus   \n",
              "3                       NaN  Selfie Video  Comedy          NaN   \n",
              "4                       NaN  Selfie Video  Comedy          NaN   \n",
              "\n",
              "   Video length in S Music Genre  \n",
              "0                  7         NaN  \n",
              "1                  5         NaN  \n",
              "2                  8         Pop  \n",
              "3                  5         NaN  \n",
              "4                  6         NaN  "
            ],
            "text/html": [
              "\n",
              "  <div id=\"df-4c451c90-db67-47bb-ad7a-27343787863c\">\n",
              "    <div class=\"colab-df-container\">\n",
              "      <div>\n",
              "<style scoped>\n",
              "    .dataframe tbody tr th:only-of-type {\n",
              "        vertical-align: middle;\n",
              "    }\n",
              "\n",
              "    .dataframe tbody tr th {\n",
              "        vertical-align: top;\n",
              "    }\n",
              "\n",
              "    .dataframe thead th {\n",
              "        text-align: right;\n",
              "    }\n",
              "</style>\n",
              "<table border=\"1\" class=\"dataframe\">\n",
              "  <thead>\n",
              "    <tr style=\"text-align: right;\">\n",
              "      <th></th>\n",
              "      <th>Platform</th>\n",
              "      <th>Month</th>\n",
              "      <th>Trend</th>\n",
              "      <th>Trend Type</th>\n",
              "      <th>Music</th>\n",
              "      <th>Video Style</th>\n",
              "      <th>Theme</th>\n",
              "      <th>Part of Song</th>\n",
              "      <th>Video length in S</th>\n",
              "      <th>Music Genre</th>\n",
              "    </tr>\n",
              "  </thead>\n",
              "  <tbody>\n",
              "    <tr>\n",
              "      <th>0</th>\n",
              "      <td>TikTok</td>\n",
              "      <td>202006</td>\n",
              "      <td>I Win</td>\n",
              "      <td>Lip Sync (dialogue)</td>\n",
              "      <td>NaN</td>\n",
              "      <td>Selfie Video</td>\n",
              "      <td>Comedy</td>\n",
              "      <td>NaN</td>\n",
              "      <td>7</td>\n",
              "      <td>NaN</td>\n",
              "    </tr>\n",
              "    <tr>\n",
              "      <th>1</th>\n",
              "      <td>TikTok</td>\n",
              "      <td>202006</td>\n",
              "      <td>I am Jose Mourinho</td>\n",
              "      <td>Lip Sync (dialogue)</td>\n",
              "      <td>NaN</td>\n",
              "      <td>Selfie Video</td>\n",
              "      <td>Comedy</td>\n",
              "      <td>NaN</td>\n",
              "      <td>5</td>\n",
              "      <td>NaN</td>\n",
              "    </tr>\n",
              "    <tr>\n",
              "      <th>2</th>\n",
              "      <td>TikTok</td>\n",
              "      <td>202006</td>\n",
              "      <td>I'm Gonna Live Forever</td>\n",
              "      <td>Lip Sync (music)</td>\n",
              "      <td>Fame - Irene Cara (1980)</td>\n",
              "      <td>Selfie Video</td>\n",
              "      <td>Comedy</td>\n",
              "      <td>Chorus</td>\n",
              "      <td>8</td>\n",
              "      <td>Pop</td>\n",
              "    </tr>\n",
              "    <tr>\n",
              "      <th>3</th>\n",
              "      <td>TikTok</td>\n",
              "      <td>202006</td>\n",
              "      <td>That's My Life (Hilary Duff)</td>\n",
              "      <td>Lip Sync (dialogue)</td>\n",
              "      <td>NaN</td>\n",
              "      <td>Selfie Video</td>\n",
              "      <td>Comedy</td>\n",
              "      <td>NaN</td>\n",
              "      <td>5</td>\n",
              "      <td>NaN</td>\n",
              "    </tr>\n",
              "    <tr>\n",
              "      <th>4</th>\n",
              "      <td>TikTok</td>\n",
              "      <td>202006</td>\n",
              "      <td>Hot New Bombshell (Love Island)</td>\n",
              "      <td>Lip Sync (dialogue)</td>\n",
              "      <td>NaN</td>\n",
              "      <td>Selfie Video</td>\n",
              "      <td>Comedy</td>\n",
              "      <td>NaN</td>\n",
              "      <td>6</td>\n",
              "      <td>NaN</td>\n",
              "    </tr>\n",
              "  </tbody>\n",
              "</table>\n",
              "</div>\n",
              "      <button class=\"colab-df-convert\" onclick=\"convertToInteractive('df-4c451c90-db67-47bb-ad7a-27343787863c')\"\n",
              "              title=\"Convert this dataframe to an interactive table.\"\n",
              "              style=\"display:none;\">\n",
              "        \n",
              "  <svg xmlns=\"http://www.w3.org/2000/svg\" height=\"24px\"viewBox=\"0 0 24 24\"\n",
              "       width=\"24px\">\n",
              "    <path d=\"M0 0h24v24H0V0z\" fill=\"none\"/>\n",
              "    <path d=\"M18.56 5.44l.94 2.06.94-2.06 2.06-.94-2.06-.94-.94-2.06-.94 2.06-2.06.94zm-11 1L8.5 8.5l.94-2.06 2.06-.94-2.06-.94L8.5 2.5l-.94 2.06-2.06.94zm10 10l.94 2.06.94-2.06 2.06-.94-2.06-.94-.94-2.06-.94 2.06-2.06.94z\"/><path d=\"M17.41 7.96l-1.37-1.37c-.4-.4-.92-.59-1.43-.59-.52 0-1.04.2-1.43.59L10.3 9.45l-7.72 7.72c-.78.78-.78 2.05 0 2.83L4 21.41c.39.39.9.59 1.41.59.51 0 1.02-.2 1.41-.59l7.78-7.78 2.81-2.81c.8-.78.8-2.07 0-2.86zM5.41 20L4 18.59l7.72-7.72 1.47 1.35L5.41 20z\"/>\n",
              "  </svg>\n",
              "      </button>\n",
              "      \n",
              "  <style>\n",
              "    .colab-df-container {\n",
              "      display:flex;\n",
              "      flex-wrap:wrap;\n",
              "      gap: 12px;\n",
              "    }\n",
              "\n",
              "    .colab-df-convert {\n",
              "      background-color: #E8F0FE;\n",
              "      border: none;\n",
              "      border-radius: 50%;\n",
              "      cursor: pointer;\n",
              "      display: none;\n",
              "      fill: #1967D2;\n",
              "      height: 32px;\n",
              "      padding: 0 0 0 0;\n",
              "      width: 32px;\n",
              "    }\n",
              "\n",
              "    .colab-df-convert:hover {\n",
              "      background-color: #E2EBFA;\n",
              "      box-shadow: 0px 1px 2px rgba(60, 64, 67, 0.3), 0px 1px 3px 1px rgba(60, 64, 67, 0.15);\n",
              "      fill: #174EA6;\n",
              "    }\n",
              "\n",
              "    [theme=dark] .colab-df-convert {\n",
              "      background-color: #3B4455;\n",
              "      fill: #D2E3FC;\n",
              "    }\n",
              "\n",
              "    [theme=dark] .colab-df-convert:hover {\n",
              "      background-color: #434B5C;\n",
              "      box-shadow: 0px 1px 3px 1px rgba(0, 0, 0, 0.15);\n",
              "      filter: drop-shadow(0px 1px 2px rgba(0, 0, 0, 0.3));\n",
              "      fill: #FFFFFF;\n",
              "    }\n",
              "  </style>\n",
              "\n",
              "      <script>\n",
              "        const buttonEl =\n",
              "          document.querySelector('#df-4c451c90-db67-47bb-ad7a-27343787863c button.colab-df-convert');\n",
              "        buttonEl.style.display =\n",
              "          google.colab.kernel.accessAllowed ? 'block' : 'none';\n",
              "\n",
              "        async function convertToInteractive(key) {\n",
              "          const element = document.querySelector('#df-4c451c90-db67-47bb-ad7a-27343787863c');\n",
              "          const dataTable =\n",
              "            await google.colab.kernel.invokeFunction('convertToInteractive',\n",
              "                                                     [key], {});\n",
              "          if (!dataTable) return;\n",
              "\n",
              "          const docLinkHtml = 'Like what you see? Visit the ' +\n",
              "            '<a target=\"_blank\" href=https://colab.research.google.com/notebooks/data_table.ipynb>data table notebook</a>'\n",
              "            + ' to learn more about interactive tables.';\n",
              "          element.innerHTML = '';\n",
              "          dataTable['output_type'] = 'display_data';\n",
              "          await google.colab.output.renderOutput(dataTable, element);\n",
              "          const docLink = document.createElement('div');\n",
              "          docLink.innerHTML = docLinkHtml;\n",
              "          element.appendChild(docLink);\n",
              "        }\n",
              "      </script>\n",
              "    </div>\n",
              "  </div>\n",
              "  "
            ]
          },
          "metadata": {},
          "execution_count": 3
        }
      ]
    },
    {
      "cell_type": "markdown",
      "source": [
        "The below mentioned code will get you to know the numbers of rows and columns in the data."
      ],
      "metadata": {
        "id": "C13Zek1hQ3b4"
      }
    },
    {
      "cell_type": "code",
      "source": [
        "df.shape"
      ],
      "metadata": {
        "colab": {
          "base_uri": "https://localhost:8080/"
        },
        "id": "_TElNHYOBRWT",
        "outputId": "a8c63a35-3a08-4e94-fa44-8d2a3d75bce5"
      },
      "execution_count": 4,
      "outputs": [
        {
          "output_type": "execute_result",
          "data": {
            "text/plain": [
              "(37, 10)"
            ]
          },
          "metadata": {},
          "execution_count": 4
        }
      ]
    },
    {
      "cell_type": "markdown",
      "source": [
        "Let's check that whether there are either any null values available or not. "
      ],
      "metadata": {
        "id": "Qr9KGByTRLfL"
      }
    },
    {
      "cell_type": "code",
      "source": [
        "df.isnull().sum()"
      ],
      "metadata": {
        "colab": {
          "base_uri": "https://localhost:8080/"
        },
        "id": "G1-CR_WnBRZI",
        "outputId": "5f99a6a0-9e3b-4f6a-fe97-64136111bc72"
      },
      "execution_count": 5,
      "outputs": [
        {
          "output_type": "execute_result",
          "data": {
            "text/plain": [
              "Platform              0\n",
              "Month                 0\n",
              "Trend                 0\n",
              "Trend Type            0\n",
              "Music                14\n",
              "Video Style           0\n",
              "Theme                 0\n",
              "Part of Song         14\n",
              "Video length in S     0\n",
              "Music Genre          14\n",
              "dtype: int64"
            ]
          },
          "metadata": {},
          "execution_count": 5
        }
      ]
    },
    {
      "cell_type": "markdown",
      "source": [
        "Code for dropping Nan Values."
      ],
      "metadata": {
        "id": "_YPQzeQnYYQd"
      }
    },
    {
      "cell_type": "code",
      "source": [
        "data = df.dropna()\n",
        "print(data.shape)\n",
        "test = df[~df[\"Music Genre\"].notna()].drop(\"Music Genre\",axis=1)\n",
        "print(test.shape)"
      ],
      "metadata": {
        "colab": {
          "base_uri": "https://localhost:8080/"
        },
        "id": "s3n-NIrtEtZ8",
        "outputId": "cb273f09-e7a0-41f4-f9dc-5c4436910130"
      },
      "execution_count": 6,
      "outputs": [
        {
          "output_type": "stream",
          "name": "stdout",
          "text": [
            "(23, 10)\n",
            "(14, 9)\n"
          ]
        }
      ]
    },
    {
      "cell_type": "code",
      "source": [
        "data[ :5]"
      ],
      "metadata": {
        "colab": {
          "base_uri": "https://localhost:8080/",
          "height": 441
        },
        "id": "61_pKpOTEtcc",
        "outputId": "dda64151-6eb4-4a67-e3e0-8514f28791e3"
      },
      "execution_count": 8,
      "outputs": [
        {
          "output_type": "execute_result",
          "data": {
            "text/plain": [
              "   Platform   Month                                 Trend  \\\n",
              "2    TikTok  202006                I'm Gonna Live Forever   \n",
              "6    TikTok  202006         Things People Have Said to Me   \n",
              "7    TikTok  202006       Benny and the Jets x Chiquitita   \n",
              "8    TikTok  202006  Feel No Ways (took one for the team)   \n",
              "11   TikTok  202006              Sands (Background Music)   \n",
              "\n",
              "                  Trend Type  \\\n",
              "2           Lip Sync (music)   \n",
              "6   Dance + Lip Sync (music)   \n",
              "7                    Montage   \n",
              "8             Dance + Filter   \n",
              "11      Text on Screen, Vlog   \n",
              "\n",
              "                                                Music  \\\n",
              "2                            Fame - Irene Cara (1980)   \n",
              "6                    Happiness - Alexis Jordan (2010)   \n",
              "7   Benny and the Jets - Elton John (1974) Chiquit...   \n",
              "8                         Feel No Ways - Drake (2016)   \n",
              "11                            Sands - Lethilda (2021)   \n",
              "\n",
              "                              Video Style      Theme        Part of Song  \\\n",
              "2                            Selfie Video     Comedy              Chorus   \n",
              "6                            Selfie Video     Comedy              Chorus   \n",
              "7                 Photo/Video Compilation  Lifestyle  Prelude; Interlude   \n",
              "8                Video with Horace filter     Comedy         First verse   \n",
              "11  Selfie Video, Photo/Video Compilation  Lifestyle         First verse   \n",
              "\n",
              "    Video length in S  Music Genre  \n",
              "2                   8          Pop  \n",
              "6                  24          R&B  \n",
              "7                  12    Rock; Pop  \n",
              "8                   5  Hip-Hop/Rap  \n",
              "11                  8          Pop  "
            ],
            "text/html": [
              "\n",
              "  <div id=\"df-d2146397-48b3-468d-9f7f-f15c56b629ad\">\n",
              "    <div class=\"colab-df-container\">\n",
              "      <div>\n",
              "<style scoped>\n",
              "    .dataframe tbody tr th:only-of-type {\n",
              "        vertical-align: middle;\n",
              "    }\n",
              "\n",
              "    .dataframe tbody tr th {\n",
              "        vertical-align: top;\n",
              "    }\n",
              "\n",
              "    .dataframe thead th {\n",
              "        text-align: right;\n",
              "    }\n",
              "</style>\n",
              "<table border=\"1\" class=\"dataframe\">\n",
              "  <thead>\n",
              "    <tr style=\"text-align: right;\">\n",
              "      <th></th>\n",
              "      <th>Platform</th>\n",
              "      <th>Month</th>\n",
              "      <th>Trend</th>\n",
              "      <th>Trend Type</th>\n",
              "      <th>Music</th>\n",
              "      <th>Video Style</th>\n",
              "      <th>Theme</th>\n",
              "      <th>Part of Song</th>\n",
              "      <th>Video length in S</th>\n",
              "      <th>Music Genre</th>\n",
              "    </tr>\n",
              "  </thead>\n",
              "  <tbody>\n",
              "    <tr>\n",
              "      <th>2</th>\n",
              "      <td>TikTok</td>\n",
              "      <td>202006</td>\n",
              "      <td>I'm Gonna Live Forever</td>\n",
              "      <td>Lip Sync (music)</td>\n",
              "      <td>Fame - Irene Cara (1980)</td>\n",
              "      <td>Selfie Video</td>\n",
              "      <td>Comedy</td>\n",
              "      <td>Chorus</td>\n",
              "      <td>8</td>\n",
              "      <td>Pop</td>\n",
              "    </tr>\n",
              "    <tr>\n",
              "      <th>6</th>\n",
              "      <td>TikTok</td>\n",
              "      <td>202006</td>\n",
              "      <td>Things People Have Said to Me</td>\n",
              "      <td>Dance + Lip Sync (music)</td>\n",
              "      <td>Happiness - Alexis Jordan (2010)</td>\n",
              "      <td>Selfie Video</td>\n",
              "      <td>Comedy</td>\n",
              "      <td>Chorus</td>\n",
              "      <td>24</td>\n",
              "      <td>R&amp;B</td>\n",
              "    </tr>\n",
              "    <tr>\n",
              "      <th>7</th>\n",
              "      <td>TikTok</td>\n",
              "      <td>202006</td>\n",
              "      <td>Benny and the Jets x Chiquitita</td>\n",
              "      <td>Montage</td>\n",
              "      <td>Benny and the Jets - Elton John (1974) Chiquit...</td>\n",
              "      <td>Photo/Video Compilation</td>\n",
              "      <td>Lifestyle</td>\n",
              "      <td>Prelude; Interlude</td>\n",
              "      <td>12</td>\n",
              "      <td>Rock; Pop</td>\n",
              "    </tr>\n",
              "    <tr>\n",
              "      <th>8</th>\n",
              "      <td>TikTok</td>\n",
              "      <td>202006</td>\n",
              "      <td>Feel No Ways (took one for the team)</td>\n",
              "      <td>Dance + Filter</td>\n",
              "      <td>Feel No Ways - Drake (2016)</td>\n",
              "      <td>Video with Horace filter</td>\n",
              "      <td>Comedy</td>\n",
              "      <td>First verse</td>\n",
              "      <td>5</td>\n",
              "      <td>Hip-Hop/Rap</td>\n",
              "    </tr>\n",
              "    <tr>\n",
              "      <th>11</th>\n",
              "      <td>TikTok</td>\n",
              "      <td>202006</td>\n",
              "      <td>Sands (Background Music)</td>\n",
              "      <td>Text on Screen, Vlog</td>\n",
              "      <td>Sands - Lethilda (2021)</td>\n",
              "      <td>Selfie Video, Photo/Video Compilation</td>\n",
              "      <td>Lifestyle</td>\n",
              "      <td>First verse</td>\n",
              "      <td>8</td>\n",
              "      <td>Pop</td>\n",
              "    </tr>\n",
              "  </tbody>\n",
              "</table>\n",
              "</div>\n",
              "      <button class=\"colab-df-convert\" onclick=\"convertToInteractive('df-d2146397-48b3-468d-9f7f-f15c56b629ad')\"\n",
              "              title=\"Convert this dataframe to an interactive table.\"\n",
              "              style=\"display:none;\">\n",
              "        \n",
              "  <svg xmlns=\"http://www.w3.org/2000/svg\" height=\"24px\"viewBox=\"0 0 24 24\"\n",
              "       width=\"24px\">\n",
              "    <path d=\"M0 0h24v24H0V0z\" fill=\"none\"/>\n",
              "    <path d=\"M18.56 5.44l.94 2.06.94-2.06 2.06-.94-2.06-.94-.94-2.06-.94 2.06-2.06.94zm-11 1L8.5 8.5l.94-2.06 2.06-.94-2.06-.94L8.5 2.5l-.94 2.06-2.06.94zm10 10l.94 2.06.94-2.06 2.06-.94-2.06-.94-.94-2.06-.94 2.06-2.06.94z\"/><path d=\"M17.41 7.96l-1.37-1.37c-.4-.4-.92-.59-1.43-.59-.52 0-1.04.2-1.43.59L10.3 9.45l-7.72 7.72c-.78.78-.78 2.05 0 2.83L4 21.41c.39.39.9.59 1.41.59.51 0 1.02-.2 1.41-.59l7.78-7.78 2.81-2.81c.8-.78.8-2.07 0-2.86zM5.41 20L4 18.59l7.72-7.72 1.47 1.35L5.41 20z\"/>\n",
              "  </svg>\n",
              "      </button>\n",
              "      \n",
              "  <style>\n",
              "    .colab-df-container {\n",
              "      display:flex;\n",
              "      flex-wrap:wrap;\n",
              "      gap: 12px;\n",
              "    }\n",
              "\n",
              "    .colab-df-convert {\n",
              "      background-color: #E8F0FE;\n",
              "      border: none;\n",
              "      border-radius: 50%;\n",
              "      cursor: pointer;\n",
              "      display: none;\n",
              "      fill: #1967D2;\n",
              "      height: 32px;\n",
              "      padding: 0 0 0 0;\n",
              "      width: 32px;\n",
              "    }\n",
              "\n",
              "    .colab-df-convert:hover {\n",
              "      background-color: #E2EBFA;\n",
              "      box-shadow: 0px 1px 2px rgba(60, 64, 67, 0.3), 0px 1px 3px 1px rgba(60, 64, 67, 0.15);\n",
              "      fill: #174EA6;\n",
              "    }\n",
              "\n",
              "    [theme=dark] .colab-df-convert {\n",
              "      background-color: #3B4455;\n",
              "      fill: #D2E3FC;\n",
              "    }\n",
              "\n",
              "    [theme=dark] .colab-df-convert:hover {\n",
              "      background-color: #434B5C;\n",
              "      box-shadow: 0px 1px 3px 1px rgba(0, 0, 0, 0.15);\n",
              "      filter: drop-shadow(0px 1px 2px rgba(0, 0, 0, 0.3));\n",
              "      fill: #FFFFFF;\n",
              "    }\n",
              "  </style>\n",
              "\n",
              "      <script>\n",
              "        const buttonEl =\n",
              "          document.querySelector('#df-d2146397-48b3-468d-9f7f-f15c56b629ad button.colab-df-convert');\n",
              "        buttonEl.style.display =\n",
              "          google.colab.kernel.accessAllowed ? 'block' : 'none';\n",
              "\n",
              "        async function convertToInteractive(key) {\n",
              "          const element = document.querySelector('#df-d2146397-48b3-468d-9f7f-f15c56b629ad');\n",
              "          const dataTable =\n",
              "            await google.colab.kernel.invokeFunction('convertToInteractive',\n",
              "                                                     [key], {});\n",
              "          if (!dataTable) return;\n",
              "\n",
              "          const docLinkHtml = 'Like what you see? Visit the ' +\n",
              "            '<a target=\"_blank\" href=https://colab.research.google.com/notebooks/data_table.ipynb>data table notebook</a>'\n",
              "            + ' to learn more about interactive tables.';\n",
              "          element.innerHTML = '';\n",
              "          dataTable['output_type'] = 'display_data';\n",
              "          await google.colab.output.renderOutput(dataTable, element);\n",
              "          const docLink = document.createElement('div');\n",
              "          docLink.innerHTML = docLinkHtml;\n",
              "          element.appendChild(docLink);\n",
              "        }\n",
              "      </script>\n",
              "    </div>\n",
              "  </div>\n",
              "  "
            ]
          },
          "metadata": {},
          "execution_count": 8
        }
      ]
    },
    {
      "cell_type": "markdown",
      "source": [
        "Plotting graph using seaborn library , between video length which is given in seconds, v/s Month ."
      ],
      "metadata": {
        "id": "zAE_5nudYkhK"
      }
    },
    {
      "cell_type": "code",
      "source": [
        "sns.lineplot(data[\"Month\"],data[\"Video length in S\"])"
      ],
      "metadata": {
        "colab": {
          "base_uri": "https://localhost:8080/",
          "height": 351
        },
        "id": "iEqsZFO6Ete5",
        "outputId": "5c2a58dd-b45e-4756-fc24-8f3e2c1543bc"
      },
      "execution_count": 10,
      "outputs": [
        {
          "output_type": "stream",
          "name": "stderr",
          "text": [
            "/usr/local/lib/python3.8/dist-packages/seaborn/_decorators.py:36: FutureWarning: Pass the following variables as keyword args: x, y. From version 0.12, the only valid positional argument will be `data`, and passing other arguments without an explicit keyword will result in an error or misinterpretation.\n",
            "  warnings.warn(\n"
          ]
        },
        {
          "output_type": "execute_result",
          "data": {
            "text/plain": [
              "<matplotlib.axes._subplots.AxesSubplot at 0x7fc94f69cf40>"
            ]
          },
          "metadata": {},
          "execution_count": 10
        },
        {
          "output_type": "display_data",
          "data": {
            "text/plain": [
              "<Figure size 432x288 with 1 Axes>"
            ],
            "image/png": "[encoded data removed]"
          },
          "metadata": {
            "needs_background": "light"
          }
        }
      ]
    },
    {
      "cell_type": "code",
      "source": [
        "plt.figure(figsize=(25,10))\n",
        "sns.barplot(data[\"Platform\"],data[\"Video length in S\"])\n",
        "plt.xticks(rotation=90)"
      ],
      "metadata": {
        "colab": {
          "base_uri": "https://localhost:8080/",
          "height": 516
        },
        "id": "-LgU6T9nEth5",
        "outputId": "8b9664c6-7a3e-46ca-87e2-5d1379b6f4e8"
      },
      "execution_count": 11,
      "outputs": [
        {
          "output_type": "stream",
          "name": "stderr",
          "text": [
            "/usr/local/lib/python3.8/dist-packages/seaborn/_decorators.py:36: FutureWarning: Pass the following variables as keyword args: x, y. From version 0.12, the only valid positional argument will be `data`, and passing other arguments without an explicit keyword will result in an error or misinterpretation.\n",
            "  warnings.warn(\n"
          ]
        },
        {
          "output_type": "execute_result",
          "data": {
            "text/plain": [
              "(array([0, 1]), <a list of 2 Text major ticklabel objects>)"
            ]
          },
          "metadata": {},
          "execution_count": 11
        },
        {
          "output_type": "display_data",
          "data": {
            "text/plain": [
              "<Figure size 1800x720 with 1 Axes>"
            ],
            "image/png": "[encoded data removed]"
          },
          "metadata": {
            "needs_background": "light"
          }
        }
      ]
    },
    {
      "cell_type": "markdown",
      "source": [
        "### Observation:\n",
        "This graph shows the relatio between the platfrom (tik tok, youtube shorts) and the video length in seconds. \n",
        "\n",
        "Hence we discovered that Youtube shorts has more time as compared to the tiktok."
      ],
      "metadata": {
        "id": "rGrmv6N3Zjdb"
      }
    },
    {
      "cell_type": "code",
      "source": [
        "data.groupby(\"Platform\",axis=0).agg({\"Video length in S\":np.sum})"
      ],
      "metadata": {
        "colab": {
          "base_uri": "https://localhost:8080/",
          "height": 143
        },
        "id": "oFJEYZrAEtmC",
        "outputId": "53ca613a-db5c-426e-a284-aeabb7c55134"
      },
      "execution_count": 12,
      "outputs": [
        {
          "output_type": "execute_result",
          "data": {
            "text/plain": [
              "                Video length in S\n",
              "Platform                         \n",
              "TikTok                        148\n",
              "YouTube Shorts                 98"
            ],
            "text/html": [
              "\n",
              "  <div id=\"df-dabfcb39-32cf-43c5-b042-e9db2d5b8fca\">\n",
              "    <div class=\"colab-df-container\">\n",
              "      <div>\n",
              "<style scoped>\n",
              "    .dataframe tbody tr th:only-of-type {\n",
              "        vertical-align: middle;\n",
              "    }\n",
              "\n",
              "    .dataframe tbody tr th {\n",
              "        vertical-align: top;\n",
              "    }\n",
              "\n",
              "    .dataframe thead th {\n",
              "        text-align: right;\n",
              "    }\n",
              "</style>\n",
              "<table border=\"1\" class=\"dataframe\">\n",
              "  <thead>\n",
              "    <tr style=\"text-align: right;\">\n",
              "      <th></th>\n",
              "      <th>Video length in S</th>\n",
              "    </tr>\n",
              "    <tr>\n",
              "      <th>Platform</th>\n",
              "      <th></th>\n",
              "    </tr>\n",
              "  </thead>\n",
              "  <tbody>\n",
              "    <tr>\n",
              "      <th>TikTok</th>\n",
              "      <td>148</td>\n",
              "    </tr>\n",
              "    <tr>\n",
              "      <th>YouTube Shorts</th>\n",
              "      <td>98</td>\n",
              "    </tr>\n",
              "  </tbody>\n",
              "</table>\n",
              "</div>\n",
              "      <button class=\"colab-df-convert\" onclick=\"convertToInteractive('df-dabfcb39-32cf-43c5-b042-e9db2d5b8fca')\"\n",
              "              title=\"Convert this dataframe to an interactive table.\"\n",
              "              style=\"display:none;\">\n",
              "        \n",
              "  <svg xmlns=\"http://www.w3.org/2000/svg\" height=\"24px\"viewBox=\"0 0 24 24\"\n",
              "       width=\"24px\">\n",
              "    <path d=\"M0 0h24v24H0V0z\" fill=\"none\"/>\n",
              "    <path d=\"M18.56 5.44l.94 2.06.94-2.06 2.06-.94-2.06-.94-.94-2.06-.94 2.06-2.06.94zm-11 1L8.5 8.5l.94-2.06 2.06-.94-2.06-.94L8.5 2.5l-.94 2.06-2.06.94zm10 10l.94 2.06.94-2.06 2.06-.94-2.06-.94-.94-2.06-.94 2.06-2.06.94z\"/><path d=\"M17.41 7.96l-1.37-1.37c-.4-.4-.92-.59-1.43-.59-.52 0-1.04.2-1.43.59L10.3 9.45l-7.72 7.72c-.78.78-.78 2.05 0 2.83L4 21.41c.39.39.9.59 1.41.59.51 0 1.02-.2 1.41-.59l7.78-7.78 2.81-2.81c.8-.78.8-2.07 0-2.86zM5.41 20L4 18.59l7.72-7.72 1.47 1.35L5.41 20z\"/>\n",
              "  </svg>\n",
              "      </button>\n",
              "      \n",
              "  <style>\n",
              "    .colab-df-container {\n",
              "      display:flex;\n",
              "      flex-wrap:wrap;\n",
              "      gap: 12px;\n",
              "    }\n",
              "\n",
              "    .colab-df-convert {\n",
              "      background-color: #E8F0FE;\n",
              "      border: none;\n",
              "      border-radius: 50%;\n",
              "      cursor: pointer;\n",
              "      display: none;\n",
              "      fill: #1967D2;\n",
              "      height: 32px;\n",
              "      padding: 0 0 0 0;\n",
              "      width: 32px;\n",
              "    }\n",
              "\n",
              "    .colab-df-convert:hover {\n",
              "      background-color: #E2EBFA;\n",
              "      box-shadow: 0px 1px 2px rgba(60, 64, 67, 0.3), 0px 1px 3px 1px rgba(60, 64, 67, 0.15);\n",
              "      fill: #174EA6;\n",
              "    }\n",
              "\n",
              "    [theme=dark] .colab-df-convert {\n",
              "      background-color: #3B4455;\n",
              "      fill: #D2E3FC;\n",
              "    }\n",
              "\n",
              "    [theme=dark] .colab-df-convert:hover {\n",
              "      background-color: #434B5C;\n",
              "      box-shadow: 0px 1px 3px 1px rgba(0, 0, 0, 0.15);\n",
              "      filter: drop-shadow(0px 1px 2px rgba(0, 0, 0, 0.3));\n",
              "      fill: #FFFFFF;\n",
              "    }\n",
              "  </style>\n",
              "\n",
              "      <script>\n",
              "        const buttonEl =\n",
              "          document.querySelector('#df-dabfcb39-32cf-43c5-b042-e9db2d5b8fca button.colab-df-convert');\n",
              "        buttonEl.style.display =\n",
              "          google.colab.kernel.accessAllowed ? 'block' : 'none';\n",
              "\n",
              "        async function convertToInteractive(key) {\n",
              "          const element = document.querySelector('#df-dabfcb39-32cf-43c5-b042-e9db2d5b8fca');\n",
              "          const dataTable =\n",
              "            await google.colab.kernel.invokeFunction('convertToInteractive',\n",
              "                                                     [key], {});\n",
              "          if (!dataTable) return;\n",
              "\n",
              "          const docLinkHtml = 'Like what you see? Visit the ' +\n",
              "            '<a target=\"_blank\" href=https://colab.research.google.com/notebooks/data_table.ipynb>data table notebook</a>'\n",
              "            + ' to learn more about interactive tables.';\n",
              "          element.innerHTML = '';\n",
              "          dataTable['output_type'] = 'display_data';\n",
              "          await google.colab.output.renderOutput(dataTable, element);\n",
              "          const docLink = document.createElement('div');\n",
              "          docLink.innerHTML = docLinkHtml;\n",
              "          element.appendChild(docLink);\n",
              "        }\n",
              "      </script>\n",
              "    </div>\n",
              "  </div>\n",
              "  "
            ]
          },
          "metadata": {},
          "execution_count": 12
        }
      ]
    },
    {
      "cell_type": "markdown",
      "source": [
        "Let's select one genre among all those mentioned in the data, and perform analysis and data visualisation on that genre. "
      ],
      "metadata": {
        "id": "g5L_IwkwbOSV"
      }
    },
    {
      "cell_type": "code",
      "source": [
        "pop_df = data[data[\"Music Genre\"]==\"Pop\"]\n",
        "print(pop_df.shape)\n",
        "pop_df[:3]"
      ],
      "metadata": {
        "colab": {
          "base_uri": "https://localhost:8080/",
          "height": 326
        },
        "id": "pXKVCKgWBRfO",
        "outputId": "465a3f30-9835-45d3-8338-4844833cd508"
      },
      "execution_count": 18,
      "outputs": [
        {
          "output_type": "stream",
          "name": "stdout",
          "text": [
            "(14, 10)\n"
          ]
        },
        {
          "output_type": "execute_result",
          "data": {
            "text/plain": [
              "   Platform   Month                     Trend  \\\n",
              "2    TikTok  202006    I'm Gonna Live Forever   \n",
              "11   TikTok  202006  Sands (Background Music)   \n",
              "20   TikTok  202208                 Paparazzi   \n",
              "\n",
              "                           Trend Type                         Music  \\\n",
              "2                    Lip Sync (music)      Fame - Irene Cara (1980)   \n",
              "11               Text on Screen, Vlog       Sands - Lethilda (2021)   \n",
              "20  Text on Screen + Lip Sync (music)  Paparazzi - Lady Gaga (2009)   \n",
              "\n",
              "                              Video Style      Theme Part of Song  \\\n",
              "2                            Selfie Video     Comedy       Chorus   \n",
              "11  Selfie Video, Photo/Video Compilation  Lifestyle  First verse   \n",
              "20                           Selfie Video     Comedy       Chorus   \n",
              "\n",
              "    Video length in S Music Genre  \n",
              "2                   8         Pop  \n",
              "11                  8         Pop  \n",
              "20                  7         Pop  "
            ],
            "text/html": [
              "\n",
              "  <div id=\"df-06d36130-7144-4b43-b1ed-513b26299be4\">\n",
              "    <div class=\"colab-df-container\">\n",
              "      <div>\n",
              "<style scoped>\n",
              "    .dataframe tbody tr th:only-of-type {\n",
              "        vertical-align: middle;\n",
              "    }\n",
              "\n",
              "    .dataframe tbody tr th {\n",
              "        vertical-align: top;\n",
              "    }\n",
              "\n",
              "    .dataframe thead th {\n",
              "        text-align: right;\n",
              "    }\n",
              "</style>\n",
              "<table border=\"1\" class=\"dataframe\">\n",
              "  <thead>\n",
              "    <tr style=\"text-align: right;\">\n",
              "      <th></th>\n",
              "      <th>Platform</th>\n",
              "      <th>Month</th>\n",
              "      <th>Trend</th>\n",
              "      <th>Trend Type</th>\n",
              "      <th>Music</th>\n",
              "      <th>Video Style</th>\n",
              "      <th>Theme</th>\n",
              "      <th>Part of Song</th>\n",
              "      <th>Video length in S</th>\n",
              "      <th>Music Genre</th>\n",
              "    </tr>\n",
              "  </thead>\n",
              "  <tbody>\n",
              "    <tr>\n",
              "      <th>2</th>\n",
              "      <td>TikTok</td>\n",
              "      <td>202006</td>\n",
              "      <td>I'm Gonna Live Forever</td>\n",
              "      <td>Lip Sync (music)</td>\n",
              "      <td>Fame - Irene Cara (1980)</td>\n",
              "      <td>Selfie Video</td>\n",
              "      <td>Comedy</td>\n",
              "      <td>Chorus</td>\n",
              "      <td>8</td>\n",
              "      <td>Pop</td>\n",
              "    </tr>\n",
              "    <tr>\n",
              "      <th>11</th>\n",
              "      <td>TikTok</td>\n",
              "      <td>202006</td>\n",
              "      <td>Sands (Background Music)</td>\n",
              "      <td>Text on Screen, Vlog</td>\n",
              "      <td>Sands - Lethilda (2021)</td>\n",
              "      <td>Selfie Video, Photo/Video Compilation</td>\n",
              "      <td>Lifestyle</td>\n",
              "      <td>First verse</td>\n",
              "      <td>8</td>\n",
              "      <td>Pop</td>\n",
              "    </tr>\n",
              "    <tr>\n",
              "      <th>20</th>\n",
              "      <td>TikTok</td>\n",
              "      <td>202208</td>\n",
              "      <td>Paparazzi</td>\n",
              "      <td>Text on Screen + Lip Sync (music)</td>\n",
              "      <td>Paparazzi - Lady Gaga (2009)</td>\n",
              "      <td>Selfie Video</td>\n",
              "      <td>Comedy</td>\n",
              "      <td>Chorus</td>\n",
              "      <td>7</td>\n",
              "      <td>Pop</td>\n",
              "    </tr>\n",
              "  </tbody>\n",
              "</table>\n",
              "</div>\n",
              "      <button class=\"colab-df-convert\" onclick=\"convertToInteractive('df-06d36130-7144-4b43-b1ed-513b26299be4')\"\n",
              "              title=\"Convert this dataframe to an interactive table.\"\n",
              "              style=\"display:none;\">\n",
              "        \n",
              "  <svg xmlns=\"http://www.w3.org/2000/svg\" height=\"24px\"viewBox=\"0 0 24 24\"\n",
              "       width=\"24px\">\n",
              "    <path d=\"M0 0h24v24H0V0z\" fill=\"none\"/>\n",
              "    <path d=\"M18.56 5.44l.94 2.06.94-2.06 2.06-.94-2.06-.94-.94-2.06-.94 2.06-2.06.94zm-11 1L8.5 8.5l.94-2.06 2.06-.94-2.06-.94L8.5 2.5l-.94 2.06-2.06.94zm10 10l.94 2.06.94-2.06 2.06-.94-2.06-.94-.94-2.06-.94 2.06-2.06.94z\"/><path d=\"M17.41 7.96l-1.37-1.37c-.4-.4-.92-.59-1.43-.59-.52 0-1.04.2-1.43.59L10.3 9.45l-7.72 7.72c-.78.78-.78 2.05 0 2.83L4 21.41c.39.39.9.59 1.41.59.51 0 1.02-.2 1.41-.59l7.78-7.78 2.81-2.81c.8-.78.8-2.07 0-2.86zM5.41 20L4 18.59l7.72-7.72 1.47 1.35L5.41 20z\"/>\n",
              "  </svg>\n",
              "      </button>\n",
              "      \n",
              "  <style>\n",
              "    .colab-df-container {\n",
              "      display:flex;\n",
              "      flex-wrap:wrap;\n",
              "      gap: 12px;\n",
              "    }\n",
              "\n",
              "    .colab-df-convert {\n",
              "      background-color: #E8F0FE;\n",
              "      border: none;\n",
              "      border-radius: 50%;\n",
              "      cursor: pointer;\n",
              "      display: none;\n",
              "      fill: #1967D2;\n",
              "      height: 32px;\n",
              "      padding: 0 0 0 0;\n",
              "      width: 32px;\n",
              "    }\n",
              "\n",
              "    .colab-df-convert:hover {\n",
              "      background-color: #E2EBFA;\n",
              "      box-shadow: 0px 1px 2px rgba(60, 64, 67, 0.3), 0px 1px 3px 1px rgba(60, 64, 67, 0.15);\n",
              "      fill: #174EA6;\n",
              "    }\n",
              "\n",
              "    [theme=dark] .colab-df-convert {\n",
              "      background-color: #3B4455;\n",
              "      fill: #D2E3FC;\n",
              "    }\n",
              "\n",
              "    [theme=dark] .colab-df-convert:hover {\n",
              "      background-color: #434B5C;\n",
              "      box-shadow: 0px 1px 3px 1px rgba(0, 0, 0, 0.15);\n",
              "      filter: drop-shadow(0px 1px 2px rgba(0, 0, 0, 0.3));\n",
              "      fill: #FFFFFF;\n",
              "    }\n",
              "  </style>\n",
              "\n",
              "      <script>\n",
              "        const buttonEl =\n",
              "          document.querySelector('#df-06d36130-7144-4b43-b1ed-513b26299be4 button.colab-df-convert');\n",
              "        buttonEl.style.display =\n",
              "          google.colab.kernel.accessAllowed ? 'block' : 'none';\n",
              "\n",
              "        async function convertToInteractive(key) {\n",
              "          const element = document.querySelector('#df-06d36130-7144-4b43-b1ed-513b26299be4');\n",
              "          const dataTable =\n",
              "            await google.colab.kernel.invokeFunction('convertToInteractive',\n",
              "                                                     [key], {});\n",
              "          if (!dataTable) return;\n",
              "\n",
              "          const docLinkHtml = 'Like what you see? Visit the ' +\n",
              "            '<a target=\"_blank\" href=https://colab.research.google.com/notebooks/data_table.ipynb>data table notebook</a>'\n",
              "            + ' to learn more about interactive tables.';\n",
              "          element.innerHTML = '';\n",
              "          dataTable['output_type'] = 'display_data';\n",
              "          await google.colab.output.renderOutput(dataTable, element);\n",
              "          const docLink = document.createElement('div');\n",
              "          docLink.innerHTML = docLinkHtml;\n",
              "          element.appendChild(docLink);\n",
              "        }\n",
              "      </script>\n",
              "    </div>\n",
              "  </div>\n",
              "  "
            ]
          },
          "metadata": {},
          "execution_count": 18
        }
      ]
    },
    {
      "cell_type": "markdown",
      "source": [
        "Let's plot the bar graph between the trend type and video length in seconds. \n"
      ],
      "metadata": {
        "id": "gFkqa_nIblWs"
      }
    },
    {
      "cell_type": "code",
      "source": [
        "sns.barplot(\"Trend Type\",\"Video length in S\",data=pop_df)"
      ],
      "metadata": {
        "colab": {
          "base_uri": "https://localhost:8080/",
          "height": 351
        },
        "id": "wlVriJf0BRi7",
        "outputId": "fe9ddbfd-a7fe-4d5c-f2ba-7221dddbccb1"
      },
      "execution_count": 19,
      "outputs": [
        {
          "output_type": "stream",
          "name": "stderr",
          "text": [
            "/usr/local/lib/python3.8/dist-packages/seaborn/_decorators.py:36: FutureWarning: Pass the following variables as keyword args: x, y. From version 0.12, the only valid positional argument will be `data`, and passing other arguments without an explicit keyword will result in an error or misinterpretation.\n",
            "  warnings.warn(\n"
          ]
        },
        {
          "output_type": "execute_result",
          "data": {
            "text/plain": [
              "<matplotlib.axes._subplots.AxesSubplot at 0x7fc94ee29c10>"
            ]
          },
          "metadata": {},
          "execution_count": 19
        },
        {
          "output_type": "display_data",
          "data": {
            "text/plain": [
              "<Figure size 432x288 with 1 Axes>"
            ],
            "image/png": "[encoded data removed]"
          },
          "metadata": {
            "needs_background": "light"
          }
        }
      ]
    },
    {
      "cell_type": "markdown",
      "source": [
        "Now let's plot the graph between theme and video length."
      ],
      "metadata": {
        "id": "olD5pT9UcG-O"
      }
    },
    {
      "cell_type": "code",
      "source": [
        "plt.figure(figsize=(13,8))\n",
        "sns.barplot(\"Theme\",\"Video length in S\",data=pop_df)\n",
        "plt.xticks(rotation=90)\n",
        "plt.show()"
      ],
      "metadata": {
        "colab": {
          "base_uri": "https://localhost:8080/",
          "height": 620
        },
        "id": "kOU4Tqg4BRlb",
        "outputId": "13186358-e7ea-45e4-a9c3-1700bec488be"
      },
      "execution_count": 20,
      "outputs": [
        {
          "output_type": "stream",
          "name": "stderr",
          "text": [
            "/usr/local/lib/python3.8/dist-packages/seaborn/_decorators.py:36: FutureWarning: Pass the following variables as keyword args: x, y. From version 0.12, the only valid positional argument will be `data`, and passing other arguments without an explicit keyword will result in an error or misinterpretation.\n",
            "  warnings.warn(\n"
          ]
        },
        {
          "output_type": "display_data",
          "data": {
            "text/plain": [
              "<Figure size 936x576 with 1 Axes>"
            ],
            "image/png": "[encoded data removed]"
          },
          "metadata": {
            "needs_background": "light"
          }
        }
      ]
    },
    {
      "cell_type": "markdown",
      "source": [
        "### Observation \n",
        "Here we came to know that entertainment got the maximum video length , and comedy got the lowest video length in seconds."
      ],
      "metadata": {
        "id": "WXiNLNQecifZ"
      }
    },
    {
      "cell_type": "code",
      "source": [],
      "metadata": {
        "id": "NNSLhNLeBRrm"
      },
      "execution_count": null,
      "outputs": []
    },
    {
      "cell_type": "code",
      "source": [],
      "metadata": {
        "id": "N0jnZ0XvBRu-"
      },
      "execution_count": null,
      "outputs": []
    },
    {
      "cell_type": "code",
      "source": [],
      "metadata": {
        "id": "Kz_l3FbeBRyN"
      },
      "execution_count": null,
      "outputs": []
    },
    {
      "cell_type": "code",
      "source": [],
      "metadata": {
        "id": "dKzhjxThBR1T"
      },
      "execution_count": null,
      "outputs": []
    },
    {
      "cell_type": "code",
      "source": [],
      "metadata": {
        "id": "cQtnX1zWBR4X"
      },
      "execution_count": null,
      "outputs": []
    },
    {
      "cell_type": "code",
      "source": [],
      "metadata": {
        "id": "DmBc1gTQBR8Z"
      },
      "execution_count": null,
      "outputs": []
    }
  ]
}